{
  "nbformat": 4,
  "nbformat_minor": 0,
  "metadata": {
    "colab": {
      "name": "Copy_of_Untitled0.ipynb",
      "provenance": [],
      "include_colab_link": true
    },
    "kernelspec": {
      "name": "python3",
      "display_name": "Python 3"
    },
    "language_info": {
      "name": "python"
    }
  },
  "cells": [
    {
      "cell_type": "markdown",
      "metadata": {
        "id": "view-in-github",
        "colab_type": "text"
      },
      "source": [
        "<a href=\"https://colab.research.google.com/github/Sadegh256/Sadegh/blob/main/DataCleaning-Achareh.ipynb\" target=\"_parent\"><img src=\"https://colab.research.google.com/assets/colab-badge.svg\" alt=\"Open In Colab\"/></a>"
      ]
    },
    {
      "cell_type": "code",
      "metadata": {
        "id": "VBSzBa79PhmX",
        "colab": {
          "resources": {
            "http://localhost:8080/nbextensions/google.colab/files.js": {
              "data": "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",
              "ok": true,
              "headers": [
                [
                  "content-type",
                  "application/javascript"
                ]
              ],
              "status": 200,
              "status_text": ""
            }
          },
          "base_uri": "https://localhost:8080/",
          "height": 72
        },
        "outputId": "ab0293d5-ab02-4c5f-cfaa-ec7e9e7723a9"
      },
      "source": [
        "from google.colab import files\n",
        "uploaded = files.upload()"
      ],
      "execution_count": 1,
      "outputs": [
        {
          "output_type": "display_data",
          "data": {
            "text/html": [
              "\n",
              "     <input type=\"file\" id=\"files-00481ba3-2213-472f-bc84-95fe34ca559b\" name=\"files[]\" multiple disabled\n",
              "        style=\"border:none\" />\n",
              "     <output id=\"result-00481ba3-2213-472f-bc84-95fe34ca559b\">\n",
              "      Upload widget is only available when the cell has been executed in the\n",
              "      current browser session. Please rerun this cell to enable.\n",
              "      </output>\n",
              "      <script src=\"/nbextensions/google.colab/files.js\"></script> "
            ],
            "text/plain": [
              "<IPython.core.display.HTML object>"
            ]
          },
          "metadata": {}
        },
        {
          "output_type": "stream",
          "name": "stdout",
          "text": [
            "Saving Achareh Orders-Applied Data Science Example - orders_db_data (1).csv to Achareh Orders-Applied Data Science Example - orders_db_data (1).csv\n"
          ]
        }
      ]
    },
    {
      "cell_type": "code",
      "metadata": {
        "id": "Qgnlg-gqF28L"
      },
      "source": [
        "import pandas as pd\n",
        "import io\n",
        "import numpy as np\n",
        "import seaborn as sns #visualisation\n",
        "import matplotlib.pyplot as plt #visualisation\n",
        "%matplotlib inline \n",
        "sns.set(color_codes=True)\n",
        "import chardet\n",
        "np.random.seed(0)"
      ],
      "execution_count": 2,
      "outputs": []
    },
    {
      "cell_type": "code",
      "metadata": {
        "id": "AcSq5STyG9so",
        "colab": {
          "base_uri": "https://localhost:8080/"
        },
        "outputId": "37bdee28-d0b8-470a-debf-5deb2cd23e1a"
      },
      "source": [
        "Achareh = pd.read_csv(io.BytesIO(uploaded['Achareh Orders-Applied Data Science Example - orders_db_data (1).csv']))\n",
        "print(Achareh.shape)"
      ],
      "execution_count": 3,
      "outputs": [
        {
          "output_type": "stream",
          "name": "stdout",
          "text": [
            "(15353, 18)\n"
          ]
        }
      ]
    },
    {
      "cell_type": "code",
      "metadata": {
        "id": "9IHWZEU-ICPb",
        "colab": {
          "base_uri": "https://localhost:8080/",
          "height": 411
        },
        "outputId": "69d5ce13-f0bb-48dd-ce0a-7efbd6c766d0"
      },
      "source": [
        "Achareh.head()"
      ],
      "execution_count": 4,
      "outputs": [
        {
          "output_type": "execute_result",
          "data": {
            "text/html": [
              "<div>\n",
              "<style scoped>\n",
              "    .dataframe tbody tr th:only-of-type {\n",
              "        vertical-align: middle;\n",
              "    }\n",
              "\n",
              "    .dataframe tbody tr th {\n",
              "        vertical-align: top;\n",
              "    }\n",
              "\n",
              "    .dataframe thead th {\n",
              "        text-align: right;\n",
              "    }\n",
              "</style>\n",
              "<table border=\"1\" class=\"dataframe\">\n",
              "  <thead>\n",
              "    <tr style=\"text-align: right;\">\n",
              "      <th></th>\n",
              "      <th>No. Previous Orders by Customer</th>\n",
              "      <th>Customer Join Date</th>\n",
              "      <th>Parent Service Category</th>\n",
              "      <th>Service Name</th>\n",
              "      <th>Order Status</th>\n",
              "      <th>Order City</th>\n",
              "      <th>Order Region</th>\n",
              "      <th>Workman Joine Date</th>\n",
              "      <th>Desired Date</th>\n",
              "      <th>Creation Date</th>\n",
              "      <th>Finish Date</th>\n",
              "      <th>Customer Rating</th>\n",
              "      <th>workman Rating Score</th>\n",
              "      <th>Comment</th>\n",
              "      <th>Device</th>\n",
              "      <th>Price</th>\n",
              "      <th>Discount</th>\n",
              "      <th>Quoted Task?</th>\n",
              "    </tr>\n",
              "  </thead>\n",
              "  <tbody>\n",
              "    <tr>\n",
              "      <th>0</th>\n",
              "      <td>3</td>\n",
              "      <td>1396-06-09 11:51:32.505950+04:30</td>\n",
              "      <td>نظافت و پذیرایی</td>\n",
              "      <td>نظافت راه‌ پله</td>\n",
              "      <td>ثبت‌ شده</td>\n",
              "      <td>تهران</td>\n",
              "      <td>استاد معین</td>\n",
              "      <td>NaN</td>\n",
              "      <td>1400-06-26 10:00:01.000000+04:30</td>\n",
              "      <td>1400-06-24 03:06:56.093221+04:30</td>\n",
              "      <td>1400-06-26 16:00:01.000000+04:30</td>\n",
              "      <td>NaN</td>\n",
              "      <td>NaN</td>\n",
              "      <td>NaN</td>\n",
              "      <td>android</td>\n",
              "      <td>180000</td>\n",
              "      <td>0</td>\n",
              "      <td>AUTOMATIC_ALLOCATION</td>\n",
              "    </tr>\n",
              "    <tr>\n",
              "      <th>1</th>\n",
              "      <td>0</td>\n",
              "      <td>1400-06-24 02:54:34.549933+04:30</td>\n",
              "      <td>دکوراسیون و بازسازی</td>\n",
              "      <td>بنایی</td>\n",
              "      <td>Achar_Pending</td>\n",
              "      <td>تهران</td>\n",
              "      <td>وردآورد</td>\n",
              "      <td>NaN</td>\n",
              "      <td>1400-06-24 09:30:01.000000+04:30</td>\n",
              "      <td>1400-06-24 03:03:12.365980+04:30</td>\n",
              "      <td>1400-06-24 10:30:01.000000+04:30</td>\n",
              "      <td>NaN</td>\n",
              "      <td>NaN</td>\n",
              "      <td>NaN</td>\n",
              "      <td>android</td>\n",
              "      <td>0</td>\n",
              "      <td>0</td>\n",
              "      <td>MANUAL_ALLOCATION</td>\n",
              "    </tr>\n",
              "    <tr>\n",
              "      <th>2</th>\n",
              "      <td>0</td>\n",
              "      <td>1400-06-24 02:46:15.891303+04:30</td>\n",
              "      <td>نصب و تعمیر لوازم خانگی</td>\n",
              "      <td>نصب و تعمیر یخچال و فریزر</td>\n",
              "      <td>ثبت‌ شده</td>\n",
              "      <td>رشت</td>\n",
              "      <td>پل طالشان</td>\n",
              "      <td>NaN</td>\n",
              "      <td>1400-06-25 12:30:01.000000+04:30</td>\n",
              "      <td>1400-06-24 02:59:20.374623+04:30</td>\n",
              "      <td>1400-06-25 13:30:01.000000+04:30</td>\n",
              "      <td>NaN</td>\n",
              "      <td>NaN</td>\n",
              "      <td>NaN</td>\n",
              "      <td>android</td>\n",
              "      <td>0</td>\n",
              "      <td>0</td>\n",
              "      <td>MANUAL_ALLOCATION</td>\n",
              "    </tr>\n",
              "    <tr>\n",
              "      <th>3</th>\n",
              "      <td>0</td>\n",
              "      <td>1397-03-16 14:28:00.764511+04:30</td>\n",
              "      <td>تعمیرات خودرو</td>\n",
              "      <td>صافکاری و نقاشی</td>\n",
              "      <td>ثبت‌ شده</td>\n",
              "      <td>رشت</td>\n",
              "      <td>فلکه جهاد</td>\n",
              "      <td>NaN</td>\n",
              "      <td>1400-06-24 09:00:01.000000+04:30</td>\n",
              "      <td>1400-06-24 02:42:10.924776+04:30</td>\n",
              "      <td>1400-06-24 10:00:01.000000+04:30</td>\n",
              "      <td>NaN</td>\n",
              "      <td>NaN</td>\n",
              "      <td>NaN</td>\n",
              "      <td>android</td>\n",
              "      <td>0</td>\n",
              "      <td>0</td>\n",
              "      <td>MANUAL_ALLOCATION</td>\n",
              "    </tr>\n",
              "    <tr>\n",
              "      <th>4</th>\n",
              "      <td>0</td>\n",
              "      <td>1400-06-24 02:26:08.327191+04:30</td>\n",
              "      <td>دکوراسیون و بازسازی</td>\n",
              "      <td>بنایی</td>\n",
              "      <td>لغو شده</td>\n",
              "      <td>تهران</td>\n",
              "      <td>ستارخان</td>\n",
              "      <td>NaN</td>\n",
              "      <td>1400-06-24 09:30:01.000000+04:30</td>\n",
              "      <td>1400-06-24 02:37:03.244927+04:30</td>\n",
              "      <td>1400-06-24 10:30:01.000000+04:30</td>\n",
              "      <td>NaN</td>\n",
              "      <td>NaN</td>\n",
              "      <td>NaN</td>\n",
              "      <td>android</td>\n",
              "      <td>0</td>\n",
              "      <td>0</td>\n",
              "      <td>MANUAL_ALLOCATION</td>\n",
              "    </tr>\n",
              "  </tbody>\n",
              "</table>\n",
              "</div>"
            ],
            "text/plain": [
              "   No. Previous Orders by Customer  ...          Quoted Task?\n",
              "0                                3  ...  AUTOMATIC_ALLOCATION\n",
              "1                                0  ...     MANUAL_ALLOCATION\n",
              "2                                0  ...     MANUAL_ALLOCATION\n",
              "3                                0  ...     MANUAL_ALLOCATION\n",
              "4                                0  ...     MANUAL_ALLOCATION\n",
              "\n",
              "[5 rows x 18 columns]"
            ]
          },
          "metadata": {},
          "execution_count": 4
        }
      ]
    },
    {
      "cell_type": "code",
      "metadata": {
        "colab": {
          "base_uri": "https://localhost:8080/",
          "height": 668
        },
        "id": "-PydV4lkQNeR",
        "outputId": "46469b76-f96d-4d63-ba80-04813537b4b6"
      },
      "source": [
        "Achareh.tail(10)"
      ],
      "execution_count": 5,
      "outputs": [
        {
          "output_type": "execute_result",
          "data": {
            "text/html": [
              "<div>\n",
              "<style scoped>\n",
              "    .dataframe tbody tr th:only-of-type {\n",
              "        vertical-align: middle;\n",
              "    }\n",
              "\n",
              "    .dataframe tbody tr th {\n",
              "        vertical-align: top;\n",
              "    }\n",
              "\n",
              "    .dataframe thead th {\n",
              "        text-align: right;\n",
              "    }\n",
              "</style>\n",
              "<table border=\"1\" class=\"dataframe\">\n",
              "  <thead>\n",
              "    <tr style=\"text-align: right;\">\n",
              "      <th></th>\n",
              "      <th>No. Previous Orders by Customer</th>\n",
              "      <th>Customer Join Date</th>\n",
              "      <th>Parent Service Category</th>\n",
              "      <th>Service Name</th>\n",
              "      <th>Order Status</th>\n",
              "      <th>Order City</th>\n",
              "      <th>Order Region</th>\n",
              "      <th>Workman Joine Date</th>\n",
              "      <th>Desired Date</th>\n",
              "      <th>Creation Date</th>\n",
              "      <th>Finish Date</th>\n",
              "      <th>Customer Rating</th>\n",
              "      <th>workman Rating Score</th>\n",
              "      <th>Comment</th>\n",
              "      <th>Device</th>\n",
              "      <th>Price</th>\n",
              "      <th>Discount</th>\n",
              "      <th>Quoted Task?</th>\n",
              "    </tr>\n",
              "  </thead>\n",
              "  <tbody>\n",
              "    <tr>\n",
              "      <th>15343</th>\n",
              "      <td>40</td>\n",
              "      <td>1397-03-12 20:06:13.748689+04:30</td>\n",
              "      <td>شستشو</td>\n",
              "      <td>تک شویی</td>\n",
              "      <td>پیدا نشد</td>\n",
              "      <td>سنندج</td>\n",
              "      <td>بهاران 1/17</td>\n",
              "      <td>NaN</td>\n",
              "      <td>1400-06-23 11:00:01.000000+04:30</td>\n",
              "      <td>1399-03-16 00:12:56.084269+04:30</td>\n",
              "      <td>1400-06-23 12:00:01.000000+04:30</td>\n",
              "      <td>NaN</td>\n",
              "      <td>NaN</td>\n",
              "      <td>NaN</td>\n",
              "      <td>android</td>\n",
              "      <td>0</td>\n",
              "      <td>0</td>\n",
              "      <td>AUTOMATIC_ALLOCATION</td>\n",
              "    </tr>\n",
              "    <tr>\n",
              "      <th>15344</th>\n",
              "      <td>0</td>\n",
              "      <td>1398-11-15 10:46:08.557326+03:30</td>\n",
              "      <td>زیبایی بانوان</td>\n",
              "      <td>خدمات ناخن</td>\n",
              "      <td>پیدا نشد</td>\n",
              "      <td>سنندج</td>\n",
              "      <td>بهاران</td>\n",
              "      <td>NaN</td>\n",
              "      <td>1400-06-23 09:30:01.000000+04:30</td>\n",
              "      <td>1399-03-14 16:40:39.004627+04:30</td>\n",
              "      <td>1400-06-23 10:30:01.000000+04:30</td>\n",
              "      <td>NaN</td>\n",
              "      <td>NaN</td>\n",
              "      <td>NaN</td>\n",
              "      <td>android</td>\n",
              "      <td>0</td>\n",
              "      <td>0</td>\n",
              "      <td>MANUAL_ALLOCATION</td>\n",
              "    </tr>\n",
              "    <tr>\n",
              "      <th>15345</th>\n",
              "      <td>31</td>\n",
              "      <td>1398-06-10 20:27:39.642771+04:30</td>\n",
              "      <td>دکوراسیون و بازسازی</td>\n",
              "      <td>جوشکاری و آهنگری</td>\n",
              "      <td>پیدا نشد</td>\n",
              "      <td>سنندج</td>\n",
              "      <td>شالمان</td>\n",
              "      <td>NaN</td>\n",
              "      <td>1400-06-23 11:15:01.000000+04:30</td>\n",
              "      <td>1399-03-14 12:30:23.517591+04:30</td>\n",
              "      <td>1400-06-23 12:15:01.000000+04:30</td>\n",
              "      <td>NaN</td>\n",
              "      <td>NaN</td>\n",
              "      <td>NaN</td>\n",
              "      <td>android</td>\n",
              "      <td>0</td>\n",
              "      <td>0</td>\n",
              "      <td>AUTOMATIC_ALLOCATION</td>\n",
              "    </tr>\n",
              "    <tr>\n",
              "      <th>15346</th>\n",
              "      <td>21</td>\n",
              "      <td>1398-04-15 23:29:01.133406+04:30</td>\n",
              "      <td>نظافت و پذیرایی</td>\n",
              "      <td>نظافت راه‌ پله</td>\n",
              "      <td>پیدا نشد</td>\n",
              "      <td>سنندج</td>\n",
              "      <td>شهرک پردیس</td>\n",
              "      <td>NaN</td>\n",
              "      <td>1400-06-23 09:30:01.000000+04:30</td>\n",
              "      <td>1399-03-13 21:52:40.663933+04:30</td>\n",
              "      <td>1400-06-23 15:30:01.000000+04:30</td>\n",
              "      <td>NaN</td>\n",
              "      <td>NaN</td>\n",
              "      <td>NaN</td>\n",
              "      <td>android</td>\n",
              "      <td>120000</td>\n",
              "      <td>0</td>\n",
              "      <td>AUTOMATIC_ALLOCATION</td>\n",
              "    </tr>\n",
              "    <tr>\n",
              "      <th>15347</th>\n",
              "      <td>1</td>\n",
              "      <td>1398-02-08 14:11:57.904248+04:30</td>\n",
              "      <td>نظافت و پذیرایی</td>\n",
              "      <td>خدمات عادی نظافت</td>\n",
              "      <td>پیدا نشد</td>\n",
              "      <td>سنندج</td>\n",
              "      <td>بهاران</td>\n",
              "      <td>NaN</td>\n",
              "      <td>1400-06-23 19:00:00.000000+04:30</td>\n",
              "      <td>1399-03-12 14:17:42.987400+04:30</td>\n",
              "      <td>1400-06-23 23:00:00.000000+04:30</td>\n",
              "      <td>NaN</td>\n",
              "      <td>NaN</td>\n",
              "      <td>NaN</td>\n",
              "      <td>android</td>\n",
              "      <td>80000</td>\n",
              "      <td>0</td>\n",
              "      <td>AUTOMATIC_ALLOCATION</td>\n",
              "    </tr>\n",
              "    <tr>\n",
              "      <th>15348</th>\n",
              "      <td>5</td>\n",
              "      <td>1397-12-20 08:14:12.107241+03:30</td>\n",
              "      <td>دکوراسیون و بازسازی</td>\n",
              "      <td>تعمیر و نصب کابینت</td>\n",
              "      <td>پیدا نشد</td>\n",
              "      <td>سنندج</td>\n",
              "      <td>پاسداران (۶ بهمن)</td>\n",
              "      <td>NaN</td>\n",
              "      <td>1400-06-23 09:30:01.000000+04:30</td>\n",
              "      <td>1399-03-12 09:56:30.525000+04:30</td>\n",
              "      <td>1400-06-23 10:30:01.000000+04:30</td>\n",
              "      <td>NaN</td>\n",
              "      <td>NaN</td>\n",
              "      <td>NaN</td>\n",
              "      <td>android</td>\n",
              "      <td>0</td>\n",
              "      <td>0</td>\n",
              "      <td>AUTOMATIC_ALLOCATION</td>\n",
              "    </tr>\n",
              "    <tr>\n",
              "      <th>15349</th>\n",
              "      <td>2</td>\n",
              "      <td>1399-03-12 09:02:46.650380+04:30</td>\n",
              "      <td>دکوراسیون و بازسازی</td>\n",
              "      <td>بنایی</td>\n",
              "      <td>پیدا نشد</td>\n",
              "      <td>سنندج</td>\n",
              "      <td>بلوار شبلی</td>\n",
              "      <td>NaN</td>\n",
              "      <td>1400-06-23 18:00:02.000000+04:30</td>\n",
              "      <td>1399-03-12 09:05:23.098994+04:30</td>\n",
              "      <td>1400-06-23 19:00:02.000000+04:30</td>\n",
              "      <td>NaN</td>\n",
              "      <td>NaN</td>\n",
              "      <td>NaN</td>\n",
              "      <td>web</td>\n",
              "      <td>0</td>\n",
              "      <td>0</td>\n",
              "      <td>MANUAL_ALLOCATION</td>\n",
              "    </tr>\n",
              "    <tr>\n",
              "      <th>15350</th>\n",
              "      <td>2</td>\n",
              "      <td>1399-03-11 11:54:27.008224+04:30</td>\n",
              "      <td>نظافت و پذیرایی</td>\n",
              "      <td>خدمات عادی نظافت</td>\n",
              "      <td>پیدا نشد</td>\n",
              "      <td>سنندج</td>\n",
              "      <td>بهاران</td>\n",
              "      <td>NaN</td>\n",
              "      <td>1400-06-23 14:00:02.000000+04:30</td>\n",
              "      <td>1399-03-11 21:45:13.938527+04:30</td>\n",
              "      <td>1400-06-23 18:00:02.000000+04:30</td>\n",
              "      <td>NaN</td>\n",
              "      <td>NaN</td>\n",
              "      <td>NaN</td>\n",
              "      <td>web</td>\n",
              "      <td>80000</td>\n",
              "      <td>0</td>\n",
              "      <td>AUTOMATIC_ALLOCATION</td>\n",
              "    </tr>\n",
              "    <tr>\n",
              "      <th>15351</th>\n",
              "      <td>7</td>\n",
              "      <td>1398-09-04 19:35:23.226869+03:30</td>\n",
              "      <td>شستشو</td>\n",
              "      <td>قالیشویی</td>\n",
              "      <td>پیدا نشد</td>\n",
              "      <td>سنندج</td>\n",
              "      <td>بهاران</td>\n",
              "      <td>NaN</td>\n",
              "      <td>1400-06-23 11:00:01.000000+04:30</td>\n",
              "      <td>1399-03-11 17:16:58.318792+04:30</td>\n",
              "      <td>1400-06-23 12:00:01.000000+04:30</td>\n",
              "      <td>NaN</td>\n",
              "      <td>NaN</td>\n",
              "      <td>NaN</td>\n",
              "      <td>android</td>\n",
              "      <td>0</td>\n",
              "      <td>0</td>\n",
              "      <td>MANUAL_ALLOCATION</td>\n",
              "    </tr>\n",
              "    <tr>\n",
              "      <th>15352</th>\n",
              "      <td>10</td>\n",
              "      <td>1397-08-14 19:01:50.168271+03:30</td>\n",
              "      <td>آموزش</td>\n",
              "      <td>آموزش موسیقی</td>\n",
              "      <td>لغو شده</td>\n",
              "      <td>تهران</td>\n",
              "      <td>سهروردی</td>\n",
              "      <td>NaN</td>\n",
              "      <td>1487-10-10 08:30:01.000000+03:30</td>\n",
              "      <td>1397-10-09 15:30:49.000000+03:30</td>\n",
              "      <td>1397-10-10 09:30:01.000000+03:30</td>\n",
              "      <td>NaN</td>\n",
              "      <td>NaN</td>\n",
              "      <td>NaN</td>\n",
              "      <td>android</td>\n",
              "      <td>0</td>\n",
              "      <td>0</td>\n",
              "      <td>AUTOMATIC_ALLOCATION</td>\n",
              "    </tr>\n",
              "  </tbody>\n",
              "</table>\n",
              "</div>"
            ],
            "text/plain": [
              "       No. Previous Orders by Customer  ...          Quoted Task?\n",
              "15343                               40  ...  AUTOMATIC_ALLOCATION\n",
              "15344                                0  ...     MANUAL_ALLOCATION\n",
              "15345                               31  ...  AUTOMATIC_ALLOCATION\n",
              "15346                               21  ...  AUTOMATIC_ALLOCATION\n",
              "15347                                1  ...  AUTOMATIC_ALLOCATION\n",
              "15348                                5  ...  AUTOMATIC_ALLOCATION\n",
              "15349                                2  ...     MANUAL_ALLOCATION\n",
              "15350                                2  ...  AUTOMATIC_ALLOCATION\n",
              "15351                                7  ...     MANUAL_ALLOCATION\n",
              "15352                               10  ...  AUTOMATIC_ALLOCATION\n",
              "\n",
              "[10 rows x 18 columns]"
            ]
          },
          "metadata": {},
          "execution_count": 5
        }
      ]
    },
    {
      "cell_type": "code",
      "metadata": {
        "id": "tLjnoivOIEqY",
        "colab": {
          "base_uri": "https://localhost:8080/"
        },
        "outputId": "24ba7120-70a7-4895-b1bb-af0ae0efa8bb"
      },
      "source": [
        "Achareh.info()"
      ],
      "execution_count": 6,
      "outputs": [
        {
          "output_type": "stream",
          "name": "stdout",
          "text": [
            "<class 'pandas.core.frame.DataFrame'>\n",
            "RangeIndex: 15353 entries, 0 to 15352\n",
            "Data columns (total 18 columns):\n",
            " #   Column                           Non-Null Count  Dtype  \n",
            "---  ------                           --------------  -----  \n",
            " 0   No. Previous Orders by Customer  15353 non-null  int64  \n",
            " 1   Customer Join Date               15353 non-null  object \n",
            " 2   Parent Service Category          15353 non-null  object \n",
            " 3   Service Name                     15353 non-null  object \n",
            " 4   Order Status                     15353 non-null  object \n",
            " 5   Order City                       15353 non-null  object \n",
            " 6   Order Region                     15353 non-null  object \n",
            " 7   Workman Joine Date               7038 non-null   object \n",
            " 8   Desired Date                     15353 non-null  object \n",
            " 9   Creation Date                    15353 non-null  object \n",
            " 10  Finish Date                      15353 non-null  object \n",
            " 11  Customer Rating                  1833 non-null   float64\n",
            " 12  workman Rating Score             0 non-null      float64\n",
            " 13  Comment                          724 non-null    object \n",
            " 14  Device                           15274 non-null  object \n",
            " 15  Price                            15353 non-null  int64  \n",
            " 16  Discount                         15353 non-null  int64  \n",
            " 17  Quoted Task?                     15353 non-null  object \n",
            "dtypes: float64(2), int64(3), object(13)\n",
            "memory usage: 2.1+ MB\n"
          ]
        }
      ]
    },
    {
      "cell_type": "code",
      "metadata": {
        "id": "nvfyW6xWIV6m",
        "colab": {
          "base_uri": "https://localhost:8080/",
          "height": 297
        },
        "outputId": "875c99b8-dbb3-4318-f0eb-d6de83dcae53"
      },
      "source": [
        "Achareh.describe()"
      ],
      "execution_count": 7,
      "outputs": [
        {
          "output_type": "execute_result",
          "data": {
            "text/html": [
              "<div>\n",
              "<style scoped>\n",
              "    .dataframe tbody tr th:only-of-type {\n",
              "        vertical-align: middle;\n",
              "    }\n",
              "\n",
              "    .dataframe tbody tr th {\n",
              "        vertical-align: top;\n",
              "    }\n",
              "\n",
              "    .dataframe thead th {\n",
              "        text-align: right;\n",
              "    }\n",
              "</style>\n",
              "<table border=\"1\" class=\"dataframe\">\n",
              "  <thead>\n",
              "    <tr style=\"text-align: right;\">\n",
              "      <th></th>\n",
              "      <th>No. Previous Orders by Customer</th>\n",
              "      <th>Customer Rating</th>\n",
              "      <th>workman Rating Score</th>\n",
              "      <th>Price</th>\n",
              "      <th>Discount</th>\n",
              "    </tr>\n",
              "  </thead>\n",
              "  <tbody>\n",
              "    <tr>\n",
              "      <th>count</th>\n",
              "      <td>15353.000000</td>\n",
              "      <td>1833.000000</td>\n",
              "      <td>0.0</td>\n",
              "      <td>1.535300e+04</td>\n",
              "      <td>15353.000000</td>\n",
              "    </tr>\n",
              "    <tr>\n",
              "      <th>mean</th>\n",
              "      <td>11.907510</td>\n",
              "      <td>4.674850</td>\n",
              "      <td>NaN</td>\n",
              "      <td>1.123752e+05</td>\n",
              "      <td>693.212206</td>\n",
              "    </tr>\n",
              "    <tr>\n",
              "      <th>std</th>\n",
              "      <td>49.096756</td>\n",
              "      <td>0.900694</td>\n",
              "      <td>NaN</td>\n",
              "      <td>4.830430e+05</td>\n",
              "      <td>4275.285180</td>\n",
              "    </tr>\n",
              "    <tr>\n",
              "      <th>min</th>\n",
              "      <td>0.000000</td>\n",
              "      <td>1.000000</td>\n",
              "      <td>NaN</td>\n",
              "      <td>0.000000e+00</td>\n",
              "      <td>0.000000</td>\n",
              "    </tr>\n",
              "    <tr>\n",
              "      <th>25%</th>\n",
              "      <td>1.000000</td>\n",
              "      <td>5.000000</td>\n",
              "      <td>NaN</td>\n",
              "      <td>0.000000e+00</td>\n",
              "      <td>0.000000</td>\n",
              "    </tr>\n",
              "    <tr>\n",
              "      <th>50%</th>\n",
              "      <td>3.000000</td>\n",
              "      <td>5.000000</td>\n",
              "      <td>NaN</td>\n",
              "      <td>0.000000e+00</td>\n",
              "      <td>0.000000</td>\n",
              "    </tr>\n",
              "    <tr>\n",
              "      <th>75%</th>\n",
              "      <td>10.000000</td>\n",
              "      <td>5.000000</td>\n",
              "      <td>NaN</td>\n",
              "      <td>1.800000e+05</td>\n",
              "      <td>0.000000</td>\n",
              "    </tr>\n",
              "    <tr>\n",
              "      <th>max</th>\n",
              "      <td>831.000000</td>\n",
              "      <td>5.000000</td>\n",
              "      <td>NaN</td>\n",
              "      <td>2.940000e+07</td>\n",
              "      <td>99000.000000</td>\n",
              "    </tr>\n",
              "  </tbody>\n",
              "</table>\n",
              "</div>"
            ],
            "text/plain": [
              "       No. Previous Orders by Customer  ...      Discount\n",
              "count                     15353.000000  ...  15353.000000\n",
              "mean                         11.907510  ...    693.212206\n",
              "std                          49.096756  ...   4275.285180\n",
              "min                           0.000000  ...      0.000000\n",
              "25%                           1.000000  ...      0.000000\n",
              "50%                           3.000000  ...      0.000000\n",
              "75%                          10.000000  ...      0.000000\n",
              "max                         831.000000  ...  99000.000000\n",
              "\n",
              "[8 rows x 5 columns]"
            ]
          },
          "metadata": {},
          "execution_count": 7
        }
      ]
    },
    {
      "cell_type": "code",
      "metadata": {
        "id": "n7AGnutzJUw9",
        "colab": {
          "base_uri": "https://localhost:8080/"
        },
        "outputId": "d77093dc-9247-4035-ee28-9abc5e44fb9f"
      },
      "source": [
        "Achareh['Parent Service Category'].value_counts()"
      ],
      "execution_count": 8,
      "outputs": [
        {
          "output_type": "execute_result",
          "data": {
            "text/plain": [
              "نظافت و پذیرایی                       4655\n",
              "دکوراسیون و بازسازی                   2201\n",
              "باربری و جابجایی                      1295\n",
              "نصب و تعمیر لوازم خانگی               1285\n",
              "لوله کشی                               951\n",
              "برقکاری                                891\n",
              "سرمایش و گرمایش                        850\n",
              "شستشو                                  570\n",
              "زیبایی بانوان                          518\n",
              "تعمیرات خودرو                          492\n",
              "پزشکی و پرستاری                        393\n",
              "خدمات فوری آچاره                       207\n",
              "خدمات کامپیوتری                        193\n",
              "کارواش                                 184\n",
              "آزمایش در محل                          116\n",
              "خدمات شرکتی                             81\n",
              "باغبانی و فضای سبز                      76\n",
              "تعمیرات موبایل، تبلت و لوازم جانبی      74\n",
              "پیرایش آقایان                           72\n",
              "تامین نیروی انسانی                      65\n",
              "آموزش                                   47\n",
              "کارپردازی                               32\n",
              "مجالس و رویدادها                        28\n",
              "خیاطی و تعمیرات لباس                    24\n",
              "حیوانات خانگی                           16\n",
              "مشاوره حقوقی                            16\n",
              "املاک                                   12\n",
              "تندرستی و ورزش                           5\n",
              "خدمات بیمه‌                              3\n",
              "تامین مایحتاج روزانه                     1\n",
              "Name: Parent Service Category, dtype: int64"
            ]
          },
          "metadata": {},
          "execution_count": 8
        }
      ]
    },
    {
      "cell_type": "code",
      "metadata": {
        "id": "tcUHLN9jKlGE",
        "colab": {
          "base_uri": "https://localhost:8080/",
          "height": 625
        },
        "outputId": "b8d69b88-dd8c-4492-f70f-73eb08e76049"
      },
      "source": [
        "Achareh['Parent Service Category'].value_counts()[:25].plot.bar(figsize=(20, 6),title='Service Type')"
      ],
      "execution_count": 9,
      "outputs": [
        {
          "output_type": "execute_result",
          "data": {
            "text/plain": [
              "<matplotlib.axes._subplots.AxesSubplot at 0x7f5c7dc3e410>"
            ]
          },
          "metadata": {},
          "execution_count": 9
        },
        {
          "output_type": "display_data",
          "data": {
            "image/png": "[encoded data removed]",
            "text/plain": [
              "<Figure size 1440x432 with 1 Axes>"
            ]
          },
          "metadata": {}
        }
      ]
    },
    {
      "cell_type": "code",
      "metadata": {
        "id": "X3Pd_fhAK-m5",
        "colab": {
          "base_uri": "https://localhost:8080/"
        },
        "outputId": "8765b1a4-0391-4941-8ff0-3e84f0c46e47"
      },
      "source": [
        "Achareh['Order City'].value_counts()"
      ],
      "execution_count": 10,
      "outputs": [
        {
          "output_type": "execute_result",
          "data": {
            "text/plain": [
              "تهران                      11849\n",
              "اصفهان                      1084\n",
              "کرج                          740\n",
              "شیراز                        394\n",
              "مشهد                         295\n",
              "قم                           201\n",
              "تبریز                        191\n",
              "رشت                          132\n",
              "اهواز                        129\n",
              "کرمان                         84\n",
              "همدان                         70\n",
              "یزد                           39\n",
              "سنندج                         25\n",
              "خرم آباد                      24\n",
              "آمل                           19\n",
              "چالوس، نوشهر و کلارآباد       18\n",
              "سبزوار                        16\n",
              "سلمانشهر (متل قو)             15\n",
              "اراک                          10\n",
              "بابل                           8\n",
              "قزوین                          4\n",
              "اردبیل                         3\n",
              "رفسنجان                        2\n",
              "بندرعباس                       1\n",
              "Name: Order City, dtype: int64"
            ]
          },
          "metadata": {},
          "execution_count": 10
        }
      ]
    },
    {
      "cell_type": "code",
      "metadata": {
        "id": "72fHLbZ5LnqP",
        "colab": {
          "base_uri": "https://localhost:8080/",
          "height": 465
        },
        "outputId": "34889bfc-8dbf-490a-f945-93f929c84dbf"
      },
      "source": [
        "Achareh['Quoted Task?'].value_counts().plot.pie(autopct='%1.0f%%',radius=2,ylabel='')\n",
        "plt.title('Quoted Task?', y=1.5,fontsize=20)\n",
        "plt.show()"
      ],
      "execution_count": 14,
      "outputs": [
        {
          "output_type": "display_data",
          "data": {
            "image/png": "[encoded data removed]",
            "text/plain": [
              "<Figure size 432x288 with 1 Axes>"
            ]
          },
          "metadata": {}
        }
      ]
    },
    {
      "cell_type": "code",
      "metadata": {
        "id": "EEpqOtiNL5uG",
        "colab": {
          "base_uri": "https://localhost:8080/",
          "height": 425
        },
        "outputId": "33970619-5314-430f-f6ce-a4f9e5a894b4"
      },
      "source": [
        "Achareh.plot(kind='scatter', x='Parent Service Category', y='Price', color='r',figsize=(20, 6))"
      ],
      "execution_count": 15,
      "outputs": [
        {
          "output_type": "execute_result",
          "data": {
            "text/plain": [
              "<matplotlib.axes._subplots.AxesSubplot at 0x7f5c7dbd3850>"
            ]
          },
          "metadata": {},
          "execution_count": 15
        },
        {
          "output_type": "display_data",
          "data": {
            "image/png": "[encoded data removed]",
            "text/plain": [
              "<Figure size 1440x432 with 1 Axes>"
            ]
          },
          "metadata": {}
        }
      ]
    },
    {
      "cell_type": "code",
      "metadata": {
        "id": "k0-W1m3FN7aE",
        "colab": {
          "base_uri": "https://localhost:8080/",
          "height": 297
        },
        "outputId": "effbc691-626b-4c66-968c-8a29160061eb"
      },
      "source": [
        "Achareh[Achareh['Parent Service Category']=='نظافت و پذیرایی'].describe()"
      ],
      "execution_count": 16,
      "outputs": [
        {
          "output_type": "execute_result",
          "data": {
            "text/html": [
              "<div>\n",
              "<style scoped>\n",
              "    .dataframe tbody tr th:only-of-type {\n",
              "        vertical-align: middle;\n",
              "    }\n",
              "\n",
              "    .dataframe tbody tr th {\n",
              "        vertical-align: top;\n",
              "    }\n",
              "\n",
              "    .dataframe thead th {\n",
              "        text-align: right;\n",
              "    }\n",
              "</style>\n",
              "<table border=\"1\" class=\"dataframe\">\n",
              "  <thead>\n",
              "    <tr style=\"text-align: right;\">\n",
              "      <th></th>\n",
              "      <th>No. Previous Orders by Customer</th>\n",
              "      <th>Customer Rating</th>\n",
              "      <th>workman Rating Score</th>\n",
              "      <th>Price</th>\n",
              "      <th>Discount</th>\n",
              "    </tr>\n",
              "  </thead>\n",
              "  <tbody>\n",
              "    <tr>\n",
              "      <th>count</th>\n",
              "      <td>4655.000000</td>\n",
              "      <td>675.000000</td>\n",
              "      <td>0.0</td>\n",
              "      <td>4.655000e+03</td>\n",
              "      <td>4655.000000</td>\n",
              "    </tr>\n",
              "    <tr>\n",
              "      <th>mean</th>\n",
              "      <td>19.648765</td>\n",
              "      <td>4.394074</td>\n",
              "      <td>NaN</td>\n",
              "      <td>2.351817e+05</td>\n",
              "      <td>1809.808163</td>\n",
              "    </tr>\n",
              "    <tr>\n",
              "      <th>std</th>\n",
              "      <td>82.082150</td>\n",
              "      <td>1.195427</td>\n",
              "      <td>NaN</td>\n",
              "      <td>8.192755e+05</td>\n",
              "      <td>6783.926837</td>\n",
              "    </tr>\n",
              "    <tr>\n",
              "      <th>min</th>\n",
              "      <td>0.000000</td>\n",
              "      <td>1.000000</td>\n",
              "      <td>NaN</td>\n",
              "      <td>0.000000e+00</td>\n",
              "      <td>0.000000</td>\n",
              "    </tr>\n",
              "    <tr>\n",
              "      <th>25%</th>\n",
              "      <td>1.000000</td>\n",
              "      <td>4.000000</td>\n",
              "      <td>NaN</td>\n",
              "      <td>1.550000e+05</td>\n",
              "      <td>0.000000</td>\n",
              "    </tr>\n",
              "    <tr>\n",
              "      <th>50%</th>\n",
              "      <td>5.000000</td>\n",
              "      <td>5.000000</td>\n",
              "      <td>NaN</td>\n",
              "      <td>2.000000e+05</td>\n",
              "      <td>0.000000</td>\n",
              "    </tr>\n",
              "    <tr>\n",
              "      <th>75%</th>\n",
              "      <td>13.000000</td>\n",
              "      <td>5.000000</td>\n",
              "      <td>NaN</td>\n",
              "      <td>2.650000e+05</td>\n",
              "      <td>0.000000</td>\n",
              "    </tr>\n",
              "    <tr>\n",
              "      <th>max</th>\n",
              "      <td>831.000000</td>\n",
              "      <td>5.000000</td>\n",
              "      <td>NaN</td>\n",
              "      <td>2.940000e+07</td>\n",
              "      <td>72800.000000</td>\n",
              "    </tr>\n",
              "  </tbody>\n",
              "</table>\n",
              "</div>"
            ],
            "text/plain": [
              "       No. Previous Orders by Customer  ...      Discount\n",
              "count                      4655.000000  ...   4655.000000\n",
              "mean                         19.648765  ...   1809.808163\n",
              "std                          82.082150  ...   6783.926837\n",
              "min                           0.000000  ...      0.000000\n",
              "25%                           1.000000  ...      0.000000\n",
              "50%                           5.000000  ...      0.000000\n",
              "75%                          13.000000  ...      0.000000\n",
              "max                         831.000000  ...  72800.000000\n",
              "\n",
              "[8 rows x 5 columns]"
            ]
          },
          "metadata": {},
          "execution_count": 16
        }
      ]
    },
    {
      "cell_type": "code",
      "metadata": {
        "id": "zrpM1SyiMT8U",
        "colab": {
          "base_uri": "https://localhost:8080/"
        },
        "outputId": "9b544235-41c9-4cb8-ffd2-0256ed2f0f10"
      },
      "source": [
        "Achareh.isnull().sum()"
      ],
      "execution_count": 18,
      "outputs": [
        {
          "output_type": "execute_result",
          "data": {
            "text/plain": [
              "No. Previous Orders by Customer        0\n",
              "Customer Join Date                     0\n",
              "Parent Service Category                0\n",
              "Service Name                           0\n",
              "Order Status                           0\n",
              "Order City                             0\n",
              "Order Region                           0\n",
              "Workman Joine Date                  8315\n",
              "Desired Date                           0\n",
              "Creation Date                          0\n",
              "Finish Date                            0\n",
              "Customer Rating                    13520\n",
              "workman Rating Score               15353\n",
              "Comment                            14629\n",
              "Device                                79\n",
              "Price                                  0\n",
              "Discount                               0\n",
              "Quoted Task?                           0\n",
              "dtype: int64"
            ]
          },
          "metadata": {},
          "execution_count": 18
        }
      ]
    },
    {
      "cell_type": "code",
      "metadata": {
        "id": "eyjDGNpQNJje",
        "colab": {
          "base_uri": "https://localhost:8080/"
        },
        "outputId": "18befd14-66f3-47ef-ef62-75a35fe807cc"
      },
      "source": [
        "Achareh.drop(['Customer Rating','workman Rating Score','Comment'], axis=1, inplace=True)\n",
        "Achareh.info()"
      ],
      "execution_count": 20,
      "outputs": [
        {
          "output_type": "stream",
          "name": "stdout",
          "text": [
            "<class 'pandas.core.frame.DataFrame'>\n",
            "RangeIndex: 15353 entries, 0 to 15352\n",
            "Data columns (total 15 columns):\n",
            " #   Column                           Non-Null Count  Dtype \n",
            "---  ------                           --------------  ----- \n",
            " 0   No. Previous Orders by Customer  15353 non-null  int64 \n",
            " 1   Customer Join Date               15353 non-null  object\n",
            " 2   Parent Service Category          15353 non-null  object\n",
            " 3   Service Name                     15353 non-null  object\n",
            " 4   Order Status                     15353 non-null  object\n",
            " 5   Order City                       15353 non-null  object\n",
            " 6   Order Region                     15353 non-null  object\n",
            " 7   Workman Joine Date               7038 non-null   object\n",
            " 8   Desired Date                     15353 non-null  object\n",
            " 9   Creation Date                    15353 non-null  object\n",
            " 10  Finish Date                      15353 non-null  object\n",
            " 11  Device                           15274 non-null  object\n",
            " 12  Price                            15353 non-null  int64 \n",
            " 13  Discount                         15353 non-null  int64 \n",
            " 14  Quoted Task?                     15353 non-null  object\n",
            "dtypes: int64(3), object(12)\n",
            "memory usage: 1.8+ MB\n"
          ]
        }
      ]
    },
    {
      "cell_type": "code",
      "metadata": {
        "colab": {
          "base_uri": "https://localhost:8080/",
          "height": 196
        },
        "id": "YmgGu7AUEf9U",
        "outputId": "b47f2d6f-56f5-4e3a-8f8c-50046ae9bb04"
      },
      "source": [
        "Achareh[(Achareh['Creation Date'])>(Achareh['Finish Date'])].head()"
      ],
      "execution_count": 22,
      "outputs": [
        {
          "output_type": "execute_result",
          "data": {
            "text/html": [
              "<div>\n",
              "<style scoped>\n",
              "    .dataframe tbody tr th:only-of-type {\n",
              "        vertical-align: middle;\n",
              "    }\n",
              "\n",
              "    .dataframe tbody tr th {\n",
              "        vertical-align: top;\n",
              "    }\n",
              "\n",
              "    .dataframe thead th {\n",
              "        text-align: right;\n",
              "    }\n",
              "</style>\n",
              "<table border=\"1\" class=\"dataframe\">\n",
              "  <thead>\n",
              "    <tr style=\"text-align: right;\">\n",
              "      <th></th>\n",
              "      <th>No. Previous Orders by Customer</th>\n",
              "      <th>Customer Join Date</th>\n",
              "      <th>Parent Service Category</th>\n",
              "      <th>Service Name</th>\n",
              "      <th>Order Status</th>\n",
              "      <th>Order City</th>\n",
              "      <th>Order Region</th>\n",
              "      <th>Workman Joine Date</th>\n",
              "      <th>Desired Date</th>\n",
              "      <th>Creation Date</th>\n",
              "      <th>Finish Date</th>\n",
              "      <th>Device</th>\n",
              "      <th>Price</th>\n",
              "      <th>Discount</th>\n",
              "      <th>Quoted Task?</th>\n",
              "    </tr>\n",
              "  </thead>\n",
              "  <tbody>\n",
              "    <tr>\n",
              "      <th>6087</th>\n",
              "      <td>7</td>\n",
              "      <td>1400-02-08 12:48:56.244027+04:30</td>\n",
              "      <td>نظافت و پذیرایی</td>\n",
              "      <td>نظافت راه‌ پله</td>\n",
              "      <td>اتمام کار</td>\n",
              "      <td>تهران</td>\n",
              "      <td>امیرآباد</td>\n",
              "      <td>1400-04-10 15:08:30.787212+04:30</td>\n",
              "      <td>1400-06-20 09:30:00.000000+04:30</td>\n",
              "      <td>1400-06-20 15:05:01.750017+04:30</td>\n",
              "      <td>1400-06-20 14:00:00.000000+04:30</td>\n",
              "      <td>web</td>\n",
              "      <td>200000</td>\n",
              "      <td>0</td>\n",
              "      <td>AUTOMATIC_ALLOCATION</td>\n",
              "    </tr>\n",
              "    <tr>\n",
              "      <th>11351</th>\n",
              "      <td>13</td>\n",
              "      <td>1399-05-27 22:59:51.825003+04:30</td>\n",
              "      <td>دکوراسیون و بازسازی</td>\n",
              "      <td>کاشی‌ کاری و سرامیک</td>\n",
              "      <td>پیدا نشد</td>\n",
              "      <td>تهران</td>\n",
              "      <td>شهرک راه آهن</td>\n",
              "      <td>NaN</td>\n",
              "      <td>1400-06-17 23:45:01.000000+04:30</td>\n",
              "      <td>1400-06-17 11:02:31.474065+04:30</td>\n",
              "      <td>1400-06-17 00:45:01.000000+04:30</td>\n",
              "      <td>android</td>\n",
              "      <td>0</td>\n",
              "      <td>0</td>\n",
              "      <td>MANUAL_ALLOCATION</td>\n",
              "    </tr>\n",
              "  </tbody>\n",
              "</table>\n",
              "</div>"
            ],
            "text/plain": [
              "       No. Previous Orders by Customer  ...          Quoted Task?\n",
              "6087                                 7  ...  AUTOMATIC_ALLOCATION\n",
              "11351                               13  ...     MANUAL_ALLOCATION\n",
              "\n",
              "[2 rows x 15 columns]"
            ]
          },
          "metadata": {},
          "execution_count": 22
        }
      ]
    },
    {
      "cell_type": "code",
      "metadata": {
        "colab": {
          "base_uri": "https://localhost:8080/",
          "height": 341
        },
        "id": "NteZup7LE71l",
        "outputId": "22f2a4a5-dff9-4168-e206-71f7504b0884"
      },
      "source": [
        "#Achareh.iloc[6087].drop(axis=0)\n",
        "Achareh.drop(index=6087 , axis=0 ,inplace=True)\n",
        "Achareh.shape()"
      ],
      "execution_count": 36,
      "outputs": [
        {
          "output_type": "error",
          "ename": "KeyError",
          "evalue": "ignored",
          "traceback": [
            "\u001b[0;31m---------------------------------------------------------------------------\u001b[0m",
            "\u001b[0;31mKeyError\u001b[0m                                  Traceback (most recent call last)",
            "\u001b[0;32m<ipython-input-36-c23c775414ca>\u001b[0m in \u001b[0;36m<module>\u001b[0;34m()\u001b[0m\n\u001b[1;32m      1\u001b[0m \u001b[0;31m#Achareh.iloc[6087].drop(axis=0)\u001b[0m\u001b[0;34m\u001b[0m\u001b[0;34m\u001b[0m\u001b[0;34m\u001b[0m\u001b[0m\n\u001b[0;32m----> 2\u001b[0;31m \u001b[0mAchareh\u001b[0m\u001b[0;34m.\u001b[0m\u001b[0mdrop\u001b[0m\u001b[0;34m(\u001b[0m\u001b[0mindex\u001b[0m\u001b[0;34m=\u001b[0m\u001b[0;36m6087\u001b[0m \u001b[0;34m,\u001b[0m \u001b[0maxis\u001b[0m\u001b[0;34m=\u001b[0m\u001b[0;36m0\u001b[0m \u001b[0;34m,\u001b[0m\u001b[0minplace\u001b[0m\u001b[0;34m=\u001b[0m\u001b[0;32mTrue\u001b[0m\u001b[0;34m)\u001b[0m\u001b[0;34m\u001b[0m\u001b[0;34m\u001b[0m\u001b[0m\n\u001b[0m\u001b[1;32m      3\u001b[0m \u001b[0mAchareh\u001b[0m\u001b[0;34m.\u001b[0m\u001b[0mshape\u001b[0m\u001b[0;34m(\u001b[0m\u001b[0;34m)\u001b[0m\u001b[0;34m\u001b[0m\u001b[0;34m\u001b[0m\u001b[0m\n",
            "\u001b[0;32m/usr/local/lib/python3.7/dist-packages/pandas/core/frame.py\u001b[0m in \u001b[0;36mdrop\u001b[0;34m(self, labels, axis, index, columns, level, inplace, errors)\u001b[0m\n\u001b[1;32m   4172\u001b[0m             \u001b[0mlevel\u001b[0m\u001b[0;34m=\u001b[0m\u001b[0mlevel\u001b[0m\u001b[0;34m,\u001b[0m\u001b[0;34m\u001b[0m\u001b[0;34m\u001b[0m\u001b[0m\n\u001b[1;32m   4173\u001b[0m             \u001b[0minplace\u001b[0m\u001b[0;34m=\u001b[0m\u001b[0minplace\u001b[0m\u001b[0;34m,\u001b[0m\u001b[0;34m\u001b[0m\u001b[0;34m\u001b[0m\u001b[0m\n\u001b[0;32m-> 4174\u001b[0;31m             \u001b[0merrors\u001b[0m\u001b[0;34m=\u001b[0m\u001b[0merrors\u001b[0m\u001b[0;34m,\u001b[0m\u001b[0;34m\u001b[0m\u001b[0;34m\u001b[0m\u001b[0m\n\u001b[0m\u001b[1;32m   4175\u001b[0m         )\n\u001b[1;32m   4176\u001b[0m \u001b[0;34m\u001b[0m\u001b[0m\n",
            "\u001b[0;32m/usr/local/lib/python3.7/dist-packages/pandas/core/generic.py\u001b[0m in \u001b[0;36mdrop\u001b[0;34m(self, labels, axis, index, columns, level, inplace, errors)\u001b[0m\n\u001b[1;32m   3887\u001b[0m         \u001b[0;32mfor\u001b[0m \u001b[0maxis\u001b[0m\u001b[0;34m,\u001b[0m \u001b[0mlabels\u001b[0m \u001b[0;32min\u001b[0m \u001b[0maxes\u001b[0m\u001b[0;34m.\u001b[0m\u001b[0mitems\u001b[0m\u001b[0;34m(\u001b[0m\u001b[0;34m)\u001b[0m\u001b[0;34m:\u001b[0m\u001b[0;34m\u001b[0m\u001b[0;34m\u001b[0m\u001b[0m\n\u001b[1;32m   3888\u001b[0m             \u001b[0;32mif\u001b[0m \u001b[0mlabels\u001b[0m \u001b[0;32mis\u001b[0m \u001b[0;32mnot\u001b[0m \u001b[0;32mNone\u001b[0m\u001b[0;34m:\u001b[0m\u001b[0;34m\u001b[0m\u001b[0;34m\u001b[0m\u001b[0m\n\u001b[0;32m-> 3889\u001b[0;31m                 \u001b[0mobj\u001b[0m \u001b[0;34m=\u001b[0m \u001b[0mobj\u001b[0m\u001b[0;34m.\u001b[0m\u001b[0m_drop_axis\u001b[0m\u001b[0;34m(\u001b[0m\u001b[0mlabels\u001b[0m\u001b[0;34m,\u001b[0m \u001b[0maxis\u001b[0m\u001b[0;34m,\u001b[0m \u001b[0mlevel\u001b[0m\u001b[0;34m=\u001b[0m\u001b[0mlevel\u001b[0m\u001b[0;34m,\u001b[0m \u001b[0merrors\u001b[0m\u001b[0;34m=\u001b[0m\u001b[0merrors\u001b[0m\u001b[0;34m)\u001b[0m\u001b[0;34m\u001b[0m\u001b[0;34m\u001b[0m\u001b[0m\n\u001b[0m\u001b[1;32m   3890\u001b[0m \u001b[0;34m\u001b[0m\u001b[0m\n\u001b[1;32m   3891\u001b[0m         \u001b[0;32mif\u001b[0m \u001b[0minplace\u001b[0m\u001b[0;34m:\u001b[0m\u001b[0;34m\u001b[0m\u001b[0;34m\u001b[0m\u001b[0m\n",
            "\u001b[0;32m/usr/local/lib/python3.7/dist-packages/pandas/core/generic.py\u001b[0m in \u001b[0;36m_drop_axis\u001b[0;34m(self, labels, axis, level, errors)\u001b[0m\n\u001b[1;32m   3921\u001b[0m                 \u001b[0mnew_axis\u001b[0m \u001b[0;34m=\u001b[0m \u001b[0maxis\u001b[0m\u001b[0;34m.\u001b[0m\u001b[0mdrop\u001b[0m\u001b[0;34m(\u001b[0m\u001b[0mlabels\u001b[0m\u001b[0;34m,\u001b[0m \u001b[0mlevel\u001b[0m\u001b[0;34m=\u001b[0m\u001b[0mlevel\u001b[0m\u001b[0;34m,\u001b[0m \u001b[0merrors\u001b[0m\u001b[0;34m=\u001b[0m\u001b[0merrors\u001b[0m\u001b[0;34m)\u001b[0m\u001b[0;34m\u001b[0m\u001b[0;34m\u001b[0m\u001b[0m\n\u001b[1;32m   3922\u001b[0m             \u001b[0;32melse\u001b[0m\u001b[0;34m:\u001b[0m\u001b[0;34m\u001b[0m\u001b[0;34m\u001b[0m\u001b[0m\n\u001b[0;32m-> 3923\u001b[0;31m                 \u001b[0mnew_axis\u001b[0m \u001b[0;34m=\u001b[0m \u001b[0maxis\u001b[0m\u001b[0;34m.\u001b[0m\u001b[0mdrop\u001b[0m\u001b[0;34m(\u001b[0m\u001b[0mlabels\u001b[0m\u001b[0;34m,\u001b[0m \u001b[0merrors\u001b[0m\u001b[0;34m=\u001b[0m\u001b[0merrors\u001b[0m\u001b[0;34m)\u001b[0m\u001b[0;34m\u001b[0m\u001b[0;34m\u001b[0m\u001b[0m\n\u001b[0m\u001b[1;32m   3924\u001b[0m             \u001b[0mresult\u001b[0m \u001b[0;34m=\u001b[0m \u001b[0mself\u001b[0m\u001b[0;34m.\u001b[0m\u001b[0mreindex\u001b[0m\u001b[0;34m(\u001b[0m\u001b[0;34m**\u001b[0m\u001b[0;34m{\u001b[0m\u001b[0maxis_name\u001b[0m\u001b[0;34m:\u001b[0m \u001b[0mnew_axis\u001b[0m\u001b[0;34m}\u001b[0m\u001b[0;34m)\u001b[0m\u001b[0;34m\u001b[0m\u001b[0;34m\u001b[0m\u001b[0m\n\u001b[1;32m   3925\u001b[0m \u001b[0;34m\u001b[0m\u001b[0m\n",
            "\u001b[0;32m/usr/local/lib/python3.7/dist-packages/pandas/core/indexes/base.py\u001b[0m in \u001b[0;36mdrop\u001b[0;34m(self, labels, errors)\u001b[0m\n\u001b[1;32m   5285\u001b[0m         \u001b[0;32mif\u001b[0m \u001b[0mmask\u001b[0m\u001b[0;34m.\u001b[0m\u001b[0many\u001b[0m\u001b[0;34m(\u001b[0m\u001b[0;34m)\u001b[0m\u001b[0;34m:\u001b[0m\u001b[0;34m\u001b[0m\u001b[0;34m\u001b[0m\u001b[0m\n\u001b[1;32m   5286\u001b[0m             \u001b[0;32mif\u001b[0m \u001b[0merrors\u001b[0m \u001b[0;34m!=\u001b[0m \u001b[0;34m\"ignore\"\u001b[0m\u001b[0;34m:\u001b[0m\u001b[0;34m\u001b[0m\u001b[0;34m\u001b[0m\u001b[0m\n\u001b[0;32m-> 5287\u001b[0;31m                 \u001b[0;32mraise\u001b[0m \u001b[0mKeyError\u001b[0m\u001b[0;34m(\u001b[0m\u001b[0;34mf\"{labels[mask]} not found in axis\"\u001b[0m\u001b[0;34m)\u001b[0m\u001b[0;34m\u001b[0m\u001b[0;34m\u001b[0m\u001b[0m\n\u001b[0m\u001b[1;32m   5288\u001b[0m             \u001b[0mindexer\u001b[0m \u001b[0;34m=\u001b[0m \u001b[0mindexer\u001b[0m\u001b[0;34m[\u001b[0m\u001b[0;34m~\u001b[0m\u001b[0mmask\u001b[0m\u001b[0;34m]\u001b[0m\u001b[0;34m\u001b[0m\u001b[0;34m\u001b[0m\u001b[0m\n\u001b[1;32m   5289\u001b[0m         \u001b[0;32mreturn\u001b[0m \u001b[0mself\u001b[0m\u001b[0;34m.\u001b[0m\u001b[0mdelete\u001b[0m\u001b[0;34m(\u001b[0m\u001b[0mindexer\u001b[0m\u001b[0;34m)\u001b[0m\u001b[0;34m\u001b[0m\u001b[0;34m\u001b[0m\u001b[0m\n",
            "\u001b[0;31mKeyError\u001b[0m: '[6087] not found in axis'"
          ]
        }
      ]
    },
    {
      "cell_type": "code",
      "metadata": {
        "id": "TCpizkGXGJ7H"
      },
      "source": [
        ""
      ],
      "execution_count": 24,
      "outputs": []
    }
  ]
}